{
 "cells": [
  {
   "cell_type": "code",
   "execution_count": null,
   "id": "983556f8",
   "metadata": {},
   "outputs": [],
   "source": []
  },
  {
   "cell_type": "code",
   "execution_count": null,
   "id": "205c7b0e",
   "metadata": {},
   "outputs": [],
   "source": [
    "!pip install boto3"
   ]
  },
  {
   "cell_type": "markdown",
   "id": "99fac6c4",
   "metadata": {},
   "source": [
    "Check if instance is Present...."
   ]
  },
  {
   "cell_type": "code",
   "execution_count": null,
   "id": "b87f34e7",
   "metadata": {},
   "outputs": [],
   "source": [
    "import boto3\n",
    "ec2 = boto3.client(\"ec2\")\n",
    "\n",
    "response = ec2.describe_instances()\n",
    "\n",
    "## instance_name = \"cmorrismlops\"\n",
    "\n",
    "instance_name = \"sentiment-analysis-mlops\"\n",
    "\n",
    "instance_id = \"\"\n",
    "\n",
    "for resp in response[\"Reservations\"]:\n",
    "    resp = resp[\"Instances\"][0]\n",
    "    tags = resp.get(\"Tags\",[])\n",
    "\n",
    "    for tag in tags:\n",
    "        if tag[\"Key\", \"\"]== \"Name\" and tag.get(\"Value\") == instance_name:\n",
    "            instance_id = resp[\"InstanceId\"]\n",
    "\n",
    "if instance_id ==\"\":\n",
    "    print(f\"There is no instace found with the name you gave me: {instance_name}\")\n",
    "    ## raise(STOP HERE!!)\n",
    "\n",
    "instance_id\n",
    "\n",
    "\n",
    "\n"
   ]
  },
  {
   "cell_type": "markdown",
   "id": "400b6f94",
   "metadata": {},
   "source": [
    "## Create an Amazon EC2 instance"
   ]
  },
  {
   "cell_type": "code",
   "execution_count": null,
   "id": "3e28940c",
   "metadata": {},
   "outputs": [],
   "source": [
    "import boto3\n",
    "ec2 = boto3.client(\"ec2\")\n",
    "\n",
    "if instance_id == \"\":\n",
    "    "
   ]
  },
  {
   "cell_type": "code",
   "execution_count": null,
   "id": "ecbab99c",
   "metadata": {},
   "outputs": [],
   "source": []
  },
  {
   "cell_type": "code",
   "execution_count": null,
   "id": "7b43796d",
   "metadata": {},
   "outputs": [],
   "source": []
  },
  {
   "cell_type": "code",
   "execution_count": null,
   "id": "665e481f",
   "metadata": {},
   "outputs": [],
   "source": []
  },
  {
   "cell_type": "code",
   "execution_count": null,
   "id": "58828748",
   "metadata": {},
   "outputs": [],
   "source": []
  },
  {
   "cell_type": "code",
   "execution_count": null,
   "id": "fe31ef52",
   "metadata": {},
   "outputs": [],
   "source": []
  },
  {
   "cell_type": "code",
   "execution_count": null,
   "id": "58c1d8b5",
   "metadata": {},
   "outputs": [],
   "source": []
  },
  {
   "cell_type": "code",
   "execution_count": null,
   "id": "0a5106a5",
   "metadata": {},
   "outputs": [],
   "source": []
  },
  {
   "cell_type": "code",
   "execution_count": null,
   "id": "d1072038",
   "metadata": {},
   "outputs": [],
   "source": []
  },
  {
   "cell_type": "code",
   "execution_count": null,
   "id": "8d2caa21",
   "metadata": {},
   "outputs": [],
   "source": []
  },
  {
   "cell_type": "code",
   "execution_count": null,
   "id": "87ae9ae4",
   "metadata": {},
   "outputs": [],
   "source": []
  },
  {
   "cell_type": "code",
   "execution_count": null,
   "id": "67bf8828",
   "metadata": {},
   "outputs": [],
   "source": []
  }
 ],
 "metadata": {
  "language_info": {
   "name": "python"
  }
 },
 "nbformat": 4,
 "nbformat_minor": 5
}
