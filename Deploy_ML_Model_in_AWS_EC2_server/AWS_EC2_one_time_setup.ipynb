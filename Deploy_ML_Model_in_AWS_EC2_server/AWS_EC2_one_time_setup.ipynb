{
 "cells": [
  {
   "cell_type": "code",
   "execution_count": null,
   "id": "983556f8",
   "metadata": {},
   "outputs": [],
   "source": []
  },
  {
   "cell_type": "code",
   "execution_count": null,
   "id": "205c7b0e",
   "metadata": {},
   "outputs": [],
   "source": [
    "!pip install boto3"
   ]
  },
  {
   "cell_type": "markdown",
   "id": "99fac6c4",
   "metadata": {},
   "source": [
    "Check if instance is Present...."
   ]
  },
  {
   "cell_type": "code",
   "execution_count": null,
   "id": "b87f34e7",
   "metadata": {},
   "outputs": [],
   "source": [
    "import boto3\n",
    "ec2 = boto3.client(\"ec2\")\n",
    "\n",
    "response = ec2.describe_instances()\n",
    "\n",
    "## instance_name = \"cmorrismlops\"\n",
    "\n",
    "instance_name = \"sentiment-analysis-mlops\"\n",
    "\n",
    "instance_id = \"\"\n",
    "\n",
    "for resp in response[\"Reservations\"]:\n",
    "    resp = resp[\"Instances\"][0]\n",
    "    tags = resp.get(\"Tags\",[])\n",
    "\n",
    "    for tag in tags:\n",
    "        if tag[\"Key\", \"\"]== \"Name\" and tag.get(\"Value\") == instance_name:\n",
    "            instance_id = resp[\"InstanceId\"]\n",
    "\n",
    "if instance_id ==\"\":\n",
    "    print(f\"There is no instace found with the name you gave me: {instance_name}\")\n",
    "    ## raise(STOP HERE!!)\n",
    "\n",
    "instance_id\n",
    "\n",
    "\n",
    "\n"
   ]
  },
  {
   "cell_type": "markdown",
   "id": "400b6f94",
   "metadata": {},
   "source": [
    "## Create an Amazon EC2 instance"
   ]
  },
  {
   "cell_type": "code",
   "execution_count": null,
   "id": "3e28940c",
   "metadata": {},
   "outputs": [],
   "source": [
    "import boto3\n",
    "ec2 = boto3.client(\"ec2\")\n",
    "\n",
    "if instance_id == \"\":\n",
    "    response = ec2.run_instances(\n",
    "        ImageId = 'ami-060a84cbcb5c14844'\n",
    "        MinCount=1,\n",
    "        MaxCount = 1,\n",
    "        InstanceType= \"t2.large\",\n",
    "        KeyName = \"chriskeyaccess2\",\n",
    "        BlockDeviceMappings=[\n",
    "            {\n",
    "                \"DeviceName\": \"/dev/evda\",\n",
    "                \"Ebs\": {\n",
    "                    \"DeleteOnTermination\": True,\n",
    "                    \"VolumeSize\": 120\n",
    "                }\n",
    "                \n",
    "            }\n",
    "        ])\n",
    "    instance_id = response[\"Instances\"][0][\"InstanceId\"]\n",
    "\n",
    "    ec2.create_tags(Resources=[instance_id], Tags=[\n",
    "        {\n",
    "            'Key': 'Name',\n",
    "            'Value': instance_name\n",
    "        }\n",
    "    ])\n",
    "    \n",
    "else:\n",
    "    print(\"Instance is already made dumbass.\")\n",
    "\n",
    "    \n",
    "    "
   ]
  },
  {
   "cell_type": "code",
   "execution_count": null,
   "id": "ecbab99c",
   "metadata": {},
   "outputs": [],
   "source": [
    "group_name = \"morristest\"\n",
    "\n",
    "response = ec2.describe_security_groups()\n",
    "\n",
    "security_group_id = [x['GrouId'] for x in response['SecurityGroups'] if x['GroupName']==group_name]\n",
    "\n",
    "if security_group_id ==[]: \n",
    "    response = ec2.create_security_group(\n",
    "        GroupName = group_name,\n",
    "        Description= \"Security group for testing\"\n",
    "    )\n",
    "    security_group_id = response['GroupId']\n",
    "else:\n",
    "    security_group_id = security_group_id[0]\n",
    "\n",
    "security_group_id"
   ]
  },
  {
   "cell_type": "code",
   "execution_count": null,
   "id": "7b43796d",
   "metadata": {},
   "outputs": [],
   "source": [
    "from botocore.exceptions import ClientError\n",
    "\n",
    "def update_security_group(group_id, protocol, port, cidr):\n",
    "    try:\n",
    "        response = ec2.authorize_security_group_ingress(\n",
    "            GroupId = group_id,\n",
    "            IpPermissions=[\n",
    "                {\n",
    "                    'IpProtocol': protocol,\n",
    "                    'FromPort': port,\n",
    "                    'TopPort': port,\n",
    "                    'IpRanges': [{'CidrIp'}]\n",
    "                }\n",
    "            ]\n",
    "\n",
    "        )\n",
    "    except ClientError as e:\n",
    "        if e.response['Error']['Code']==\"InvalidPermission.Duploicate\":\n",
    "                      print(\"This rule already exists.\")\n",
    "        else:\n",
    "            print(\"an error occurred you idiot!\")\n",
    "            print(e)\n",
    "            \n",
    "update_security_group(security_group_id, 'tcp', 22, '0.0.0.0/0')\n",
    "update_security_group(security_group_id, 'tcp', 80, '0.0.0.0/0')\n",
    "update_security_group(security_group_id, 'tcp', 8501, '0.0.0.0/0')\n",
    "update_security_group(security_group_id, 'tcp', 8502, '0.0.0.0/0')\n"
   ]
  },
  {
   "cell_type": "code",
   "execution_count": null,
   "id": "665e481f",
   "metadata": {},
   "outputs": [],
   "source": [
    "ec2.modify_instance_attribute(InstanceId=instance_id, Groups=[security_group_id])\n",
    "\n"
   ]
  },
  {
   "cell_type": "code",
   "execution_count": null,
   "id": "58828748",
   "metadata": {},
   "outputs": [],
   "source": [
    "##Here I am describing what my IAM role will be...\n",
    "\n",
    "iam = boto3.client(\"iam\")\n",
    "\n",
    "role_name = \"ec2-s3-full-access\"\n",
    "\n",
    "response = iam.get_role(RoleName=role_name)\n",
    "\n",
    "role_arn = response[\"Role\"][\"Arn\"]\n",
    "\n",
    "role_arn\n",
    "\n",
    "## I will make sure this is an instance profile with the same NAME as the role here....\n",
    "instance_profile_name = role_name\n",
    "\n",
    "try:\n",
    "    iam.get_instance_profile(InstanceProfileName=instance_profile_name)\n",
    "except iam.exceptions.NoSuchEntityException:\n",
    "    ## Create an instance profile if one does not exist...\n",
    "    iam.create_instance_profile(InstanceProfileName=instance_profile_name)\n",
    "    ## Add role to the instance profile....\n",
    "    iam.add_role_to_instance_profile(\n",
    "        InstanceProfileName=instance_profile_name,\n",
    "        RoleName=role_name\n",
    "    )\n",
    "\n",
    "### Now I attach the instance profile to the EC2 instance....\n",
    "ec2.associate_iam_instance_profile(\n",
    "    IamInstanceProfile={\n",
    "        \"Name\": instance_profile_name\n",
    "    },\n",
    "    InstanceId=instance_id\n",
    ")\n",
    "\n"
   ]
  },
  {
   "cell_type": "code",
   "execution_count": null,
   "id": "fe31ef52",
   "metadata": {},
   "outputs": [],
   "source": []
  },
  {
   "cell_type": "markdown",
   "id": "f968ffc2",
   "metadata": {},
   "source": [
    "### Terminate the Instance when You Need to with this...."
   ]
  },
  {
   "cell_type": "code",
   "execution_count": null,
   "id": "58c1d8b5",
   "metadata": {},
   "outputs": [],
   "source": [
    "import time\n",
    "\n",
    "def wait_for_status(instance_id, target_status):\n",
    "    while True:\n",
    "        response = ec2.describe_instances(InstanceIds=instance_id)\n",
    "\n",
    "        status = response[\"Reeservations\"][0][\"Instances\"][0][\"State\"][\"Name\"]\n",
    "\n",
    "        if status == target_status:\n",
    "            print(\"Instance is in {} state\".format(target_status))\n",
    "            break\n",
    "        time.sleep(10)\n",
    "\n",
    "def terminate_instances(instance_id):\n",
    "    print(\"EC2 Institute Termination\")\n",
    "    ec2.terminate_instances(InstanceIds=instance_id)\n",
    "\n",
    "    wait_for_status(instance_id, \"terminated\")\n",
    "\n",
    "## terminate_instances([instance_id])\n",
    "\n",
    "\n",
    "\n",
    "\n",
    "\n",
    "\n",
    "\n"
   ]
  },
  {
   "cell_type": "code",
   "execution_count": null,
   "id": "0a5106a5",
   "metadata": {},
   "outputs": [],
   "source": []
  },
  {
   "cell_type": "code",
   "execution_count": null,
   "id": "d1072038",
   "metadata": {},
   "outputs": [],
   "source": []
  },
  {
   "cell_type": "code",
   "execution_count": null,
   "id": "8d2caa21",
   "metadata": {},
   "outputs": [],
   "source": []
  },
  {
   "cell_type": "code",
   "execution_count": null,
   "id": "87ae9ae4",
   "metadata": {},
   "outputs": [],
   "source": []
  },
  {
   "cell_type": "code",
   "execution_count": null,
   "id": "67bf8828",
   "metadata": {},
   "outputs": [],
   "source": []
  }
 ],
 "metadata": {
  "language_info": {
   "name": "python"
  }
 },
 "nbformat": 4,
 "nbformat_minor": 5
}
