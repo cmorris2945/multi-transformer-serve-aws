{
 "cells": [
  {
   "cell_type": "code",
   "execution_count": null,
   "id": "961e99f6",
   "metadata": {},
   "outputs": [],
   "source": []
  },
  {
   "cell_type": "code",
   "execution_count": null,
   "id": "fa45a7b0",
   "metadata": {},
   "outputs": [],
   "source": [
    "import boto3\n",
    "\n",
    "ec2 = boto3.client('ec2', \"east-1\")\n",
    "\n",
    "response = ec2.describe_instances()\n",
    "\n",
    "instance_name = \"mlops-prod\"\n",
    "instance_id=\"\" \n",
    "\n",
    "for resp in response['Reservations']:\n",
    "    resp = resp['Instances'][0]\n",
    "    tags = resp.get('Tags', [])\n",
    "    \n",
    "    for tag in tags:\n",
    "        if tag.get(\"Key\", \"\")==\"Name\" and tag.get(\"Value\", \"\")==instance_name:\n",
    "            instance_id = resp['InstanceId']\n",
    "\n",
    "if instance_id==\"\":\n",
    "    print(f\"No instance found with name {instance_name}\")\n",
    "    raise(\"Stop here!!!\")\n",
    "\n",
    "instance_id"
   ]
  },
  {
   "cell_type": "code",
   "execution_count": null,
   "id": "c59f765d",
   "metadata": {},
   "outputs": [],
   "source": [
    "# status -> running, stopped, terminated, pending etc.\n",
    "\n",
    "def stop_instance(instance_id):\n",
    "    print(\"Your instance is stopping 'Jackass'...\")\n",
    "\n",
    "    ec2.stop_instances(InstanceIds=[instance_id])\n",
    "\n",
    "    wait_for_status(instance_id, \"stopped\")\n",
    "\n",
    "stop_instances([instance_id])\n",
    "\n",
    "\n",
    "\n",
    "\n",
    "\n",
    "\n"
   ]
  },
  {
   "cell_type": "code",
   "execution_count": null,
   "id": "d28b7def",
   "metadata": {},
   "outputs": [],
   "source": [
    "def start_instances(instance_id):\n",
    "    print(\"Your instance is starting 'Punk'...\")\n",
    "\n",
    "    ec2.start_instances(InstanceIds=instance_id)\n",
    "\n",
    "    wait_for_status(instance_idm, \"running\")\n",
    "\n",
    "start_instances([instance_in])\n",
    "\n",
    "response = ec2.describe_instances(InstanceIds=[instance_id])\n",
    "public_ip = response[\"Reservations\"][0][\"Instances\"][0][\"PublicIpAddress\"]\n",
    "public_ip\n"
   ]
  },
  {
   "cell_type": "code",
   "execution_count": null,
   "id": "06741e6a",
   "metadata": {},
   "outputs": [],
   "source": []
  },
  {
   "cell_type": "code",
   "execution_count": null,
   "id": "218dd7db",
   "metadata": {},
   "outputs": [],
   "source": []
  },
  {
   "cell_type": "code",
   "execution_count": null,
   "id": "9992a49b",
   "metadata": {},
   "outputs": [],
   "source": []
  },
  {
   "cell_type": "code",
   "execution_count": null,
   "id": "f5848fe8",
   "metadata": {},
   "outputs": [],
   "source": []
  },
  {
   "cell_type": "code",
   "execution_count": null,
   "id": "5be91a51",
   "metadata": {},
   "outputs": [],
   "source": []
  },
  {
   "cell_type": "code",
   "execution_count": null,
   "id": "446103f9",
   "metadata": {},
   "outputs": [],
   "source": []
  },
  {
   "cell_type": "code",
   "execution_count": null,
   "id": "22362737",
   "metadata": {},
   "outputs": [],
   "source": []
  },
  {
   "cell_type": "code",
   "execution_count": null,
   "id": "4d0a5c4c",
   "metadata": {},
   "outputs": [],
   "source": []
  }
 ],
 "metadata": {
  "kernelspec": {
   "display_name": "venv",
   "language": "python",
   "name": "python3"
  },
  "language_info": {
   "name": "python",
   "version": "3.11.4"
  }
 },
 "nbformat": 4,
 "nbformat_minor": 5
}
