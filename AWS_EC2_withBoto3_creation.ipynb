{
 "cells": [
  {
   "cell_type": "code",
   "execution_count": 1,
   "id": "05da14b9",
   "metadata": {},
   "outputs": [
    {
     "name": "stdout",
     "output_type": "stream",
     "text": [
      "Defaulting to user installation because normal site-packages is not writeable\n",
      "Requirement already satisfied: boto3 in c:\\users\\chris' pc\\appdata\\roaming\\python\\python311\\site-packages (1.38.0)\n",
      "Requirement already satisfied: botocore<1.39.0,>=1.38.0 in c:\\users\\chris' pc\\appdata\\roaming\\python\\python311\\site-packages (from boto3) (1.38.0)\n",
      "Requirement already satisfied: jmespath<2.0.0,>=0.7.1 in c:\\programdata\\anaconda3\\lib\\site-packages (from boto3) (1.0.1)\n",
      "Requirement already satisfied: s3transfer<0.13.0,>=0.12.0 in c:\\users\\chris' pc\\appdata\\roaming\\python\\python311\\site-packages (from boto3) (0.12.0)\n",
      "Requirement already satisfied: python-dateutil<3.0.0,>=2.1 in c:\\programdata\\anaconda3\\lib\\site-packages (from botocore<1.39.0,>=1.38.0->boto3) (2.8.2)\n",
      "Requirement already satisfied: urllib3!=2.2.0,<3,>=1.25.4 in c:\\programdata\\anaconda3\\lib\\site-packages (from botocore<1.39.0,>=1.38.0->boto3) (2.0.7)\n",
      "Requirement already satisfied: six>=1.5 in c:\\programdata\\anaconda3\\lib\\site-packages (from python-dateutil<3.0.0,>=2.1->botocore<1.39.0,>=1.38.0->boto3) (1.16.0)\n"
     ]
    }
   ],
   "source": [
    "!pip install boto3"
   ]
  },
  {
   "cell_type": "code",
   "execution_count": 24,
   "id": "2471838c",
   "metadata": {},
   "outputs": [],
   "source": [
    "import boto3\n"
   ]
  },
  {
   "cell_type": "code",
   "execution_count": null,
   "id": "dea1e731",
   "metadata": {},
   "outputs": [],
   "source": [
    "ec2 = boto3.client('ec2')\n",
    "ec2.describe_instances()\n",
    "\n",
    "\n",
    "resp = ec2.create_key_pair(KeyName=\"\")"
   ]
  },
  {
   "cell_type": "code",
   "execution_count": 15,
   "id": "250d4fe8",
   "metadata": {},
   "outputs": [
    {
     "data": {
      "text/plain": [
       "{'KeyPairId': 'key-03a695bd2970104f1',\n",
       
       " 'ResponseMetadata': {'RequestId': '2f7821cd-1fd3-4b1e-9765-328a94b1fec6',\n",
       "  'HTTPStatusCode': 200,\n",
       "  'HTTPHeaders': {'x-amzn-requestid': '2f7821cd-1fd3-4b1e-9765-328a94b1fec6',\n",
       "   'cache-control': 'no-cache, no-store',\n",
       "   'strict-transport-security': 'max-age=31536000; includeSubDomains',\n",
       "   'vary': 'accept-encoding',\n",
       "   'content-type': 'text/xml;charset=UTF-8',\n",
       "   'content-length': '2069',\n",
       "   'date': 'Wed, 23 Apr 2025 03:53:13 GMT',\n",
       "   'server': 'AmazonEC2'},\n",
       "  'RetryAttempts': 0}}"
      ]
     },
     "execution_count": 15,
     "metadata": {},
     "output_type": "execute_result"
    }
   ],
   "source": [
    "resp"
   ]
  },
  {
   "cell_type": "code",
   "execution_count": null,
   "id": "ee85a90f",
   "metadata": {},
   "outputs": [
    {
     "data": {
      "text/plain": [
       "<function TextIOWrapper.close()>"
      ]
     },
     "execution_count": 23,
     "metadata": {},
     "output_type": "execute_result"
    }
   ],
   "source": [
    "file = open(\"creds\\chriskeyaccess2.pem\", \"w\")\n",
    "file.write(resp['KeyMaterial'])\n",
    "file.close"
   ]
  },
  {
   "cell_type": "markdown",
   "id": "9b063cfb",
   "metadata": {},
   "source": [
    "CREATE A AMAZON EC2 INSTANCE THROUGH BOTO3...."
   ]
  },
  {
   "cell_type": "code",
   "execution_count": null,
   "id": "e12f29b8",
   "metadata": {},
   "outputs": [],
   "source": [
    "ec2 = boto3.client(\"ec2\", region_name=\"us-east-2\")\n",
    "response = ec2.run_instances(\n",
    "    ImageId = 'ami-060a84cbcb5c1###',\n",
    "    MinCount =1,\n",
    "    MaxCount = 1,\n",
    "    InstanceType =  't2.micro',\n",
    "    KeyName = 'chriskey#######',\n",
    "    BlockDeviceMappings = [\n",
    "        { \n",
    "            \"DeviceName\": \"/dev/xvda\",\n",
    "            \"Ebs\": {\n",
    "                \"DeleteOnTermination\": True,\n",
    "                \"VolumeSize\": 20\n",
    "            }\n",
    "        }\n",
    "    ]\n",
    "\n",
    "\n",
    ")"
   ]
  },
  {
   "cell_type": "markdown",
   "id": "95d68d6b",
   "metadata": {},
   "source": []
  },
  {
   "cell_type": "code",
   "execution_count": 34,
   "id": "2bf4813b",
   "metadata": {},
   "outputs": [
    {
     "data": {
      "text/plain": [
       "{'ReservationId': 'r-07521c04bf7a13352',\n",
       " 'OwnerId': '109958552134',\n",
       " 'Groups': [],\n",
       " 'Instances': [{'Architecture': 'x86_64',\n",
       "   'BlockDeviceMappings': [],\n",
       "   'ClientToken': '394f67c2-134b-4a96-80ef-93c29d9185bf',\n",
       "   'EbsOptimized': False,\n",
       "   'EnaSupport': True,\n",
       "   'Hypervisor': 'xen',\n",
       "   'NetworkInterfaces': [{'Attachment': {'AttachTime': datetime.datetime(2025, 4, 23, 5, 7, 27, tzinfo=tzutc()),\n",
       "      'AttachmentId': 'eni-attach-07d4780a07bc09e8a',\n",
       "      'DeleteOnTermination': True,\n",
       "      'DeviceIndex': 0,\n",
       "      'Status': 'attaching',\n",
       "      'NetworkCardIndex': 0},\n",
       "     'Description': '',\n",
       "     'Groups': [{'GroupId': 'sg-0ff9d3eff9df39577', 'GroupName': 'default'}],\n",
       "     'Ipv6Addresses': [],\n",
       "     'MacAddress': '02:2b:49:39:08:f7',\n",
       "     'NetworkInterfaceId': 'eni-086da02e5dd9aa4be',\n",
       "     'OwnerId': '109958552134',\n",
       "     'PrivateDnsName': 'ip-172-31-1-43.us-east-2.compute.internal',\n",
       "     'PrivateIpAddress': '172.31.1.43',\n",
       "     'PrivateIpAddresses': [{'Primary': True,\n",
       "       'PrivateDnsName': 'ip-172-31-1-43.us-east-2.compute.internal',\n",
       "       'PrivateIpAddress': '172.31.1.43'}],\n",
       "     'SourceDestCheck': True,\n",
       "     'Status': 'in-use',\n",
       "     'SubnetId': 'subnet-0c6be48ce84577b11',\n",
       "     'VpcId': 'vpc-0597e14c3a21b49d0',\n",
       "     'InterfaceType': 'interface',\n",
       "     'Operator': {'Managed': False}}],\n",
       "   'RootDeviceName': '/dev/xvda',\n",
       "   'RootDeviceType': 'ebs',\n",
       "   'SecurityGroups': [{'GroupId': 'sg-0ff9d3eff9df39577',\n",
       "     'GroupName': 'default'}],\n",
       "   'SourceDestCheck': True,\n",
       "   'StateReason': {'Code': 'pending', 'Message': 'pending'},\n",
       "   'VirtualizationType': 'hvm',\n",
       "   'CpuOptions': {'CoreCount': 1, 'ThreadsPerCore': 1},\n",
       "   'CapacityReservationSpecification': {'CapacityReservationPreference': 'open'},\n",
       "   'MetadataOptions': {'State': 'pending',\n",
       "    'HttpTokens': 'required',\n",
       "    'HttpPutResponseHopLimit': 2,\n",
       "    'HttpEndpoint': 'enabled',\n",
       "    'HttpProtocolIpv6': 'disabled',\n",
       "    'InstanceMetadataTags': 'disabled'},\n",
       "   'EnclaveOptions': {'Enabled': False},\n",
       "   'BootMode': 'uefi-preferred',\n",
       "   'PrivateDnsNameOptions': {'HostnameType': 'ip-name',\n",
       "    'EnableResourceNameDnsARecord': False,\n",
       "    'EnableResourceNameDnsAAAARecord': False},\n",
       "   'MaintenanceOptions': {'AutoRecovery': 'default'},\n",
       "   'CurrentInstanceBootMode': 'legacy-bios',\n",
       "   'Operator': {'Managed': False},\n",
       "   'InstanceId': 'i-0082412cfd6ca814d',\n",
       "   'ImageId': 'ami-060a84cbcb5c14844',\n",
       "   'State': {'Code': 0, 'Name': 'pending'},\n",
       "   'PrivateDnsName': 'ip-172-31-1-43.us-east-2.compute.internal',\n",
       "   'PublicDnsName': '',\n",
       "   'StateTransitionReason': '',\n",
       "   'KeyName': 'chriskeyaccess2',\n",
       "   'AmiLaunchIndex': 0,\n",
       "   'ProductCodes': [],\n",
       "   'InstanceType': 't2.micro',\n",
       "   'LaunchTime': datetime.datetime(2025, 4, 23, 5, 7, 27, tzinfo=tzutc()),\n",
       "   'Placement': {'GroupName': '',\n",
       "    'Tenancy': 'default',\n",
       "    'AvailabilityZone': 'us-east-2a'},\n",
       "   'Monitoring': {'State': 'disabled'},\n",
       "   'SubnetId': 'subnet-0c6be48ce84577b11',\n",
       "   'VpcId': 'vpc-0597e14c3a21b49d0',\n",
       "   'PrivateIpAddress': '172.31.1.43'}],\n",
       " 'ResponseMetadata': {'RequestId': '59e9481e-c8bc-4000-a245-25de4525f0cf',\n",
       "  'HTTPStatusCode': 200,\n",
       "  'HTTPHeaders': {'x-amzn-requestid': '59e9481e-c8bc-4000-a245-25de4525f0cf',\n",
       "   'cache-control': 'no-cache, no-store',\n",
       "   'strict-transport-security': 'max-age=31536000; includeSubDomains',\n",
       "   'vary': 'accept-encoding',\n",
       "   'content-type': 'text/xml;charset=UTF-8',\n",
       "   'content-length': '3798',\n",
       "   'date': 'Wed, 23 Apr 2025 05:07:27 GMT',\n",
       "   'server': 'AmazonEC2'},\n",
       "  'RetryAttempts': 0}}"
      ]
     },
     "execution_count": 34,
     "metadata": {},
     "output_type": "execute_result"
    }
   ],
   "source": [
    "response"
   ]
  },
  {
   "cell_type": "code",
   "execution_count": 35,
   "id": "7a6bd4fa",
   "metadata": {},
   "outputs": [
    {
     "data": {
      "text/plain": [
       "{'Reservations': [{'ReservationId': 'r-07521c04bf7a13352',\n",
       "   'OwnerId': '109958552134',\n",
       "   'Groups': [],\n",
       "   'Instances': [{'Architecture': 'x86_64',\n",
       "     'BlockDeviceMappings': [{'DeviceName': '/dev/xvda',\n",
       "       'Ebs': {'AttachTime': datetime.datetime(2025, 4, 23, 5, 7, 27, tzinfo=tzutc()),\n",
       "        'DeleteOnTermination': True,\n",
       "        'Status': 'attached',\n",
       "        'VolumeId': 'vol-0f376a31dfac3bc8d'}}],\n",
       "     'ClientToken': '394f67c2-134b-4a96-80ef-93c29d9185bf',\n",
       "     'EbsOptimized': False,\n",
       "     'EnaSupport': True,\n",
       "     'Hypervisor': 'xen',\n",
       "     'NetworkInterfaces': [{'Association': {'IpOwnerId': 'amazon',\n",
       "        'PublicDnsName': 'ec2-18-227-21-203.us-east-2.compute.amazonaws.com',\n",
       "        'PublicIp': '18.227.21.203'},\n",
       "       'Attachment': {'AttachTime': datetime.datetime(2025, 4, 23, 5, 7, 27, tzinfo=tzutc()),\n",
       "        'AttachmentId': 'eni-attach-07d4780a07bc09e8a',\n",
       "        'DeleteOnTermination': True,\n",
       "        'DeviceIndex': 0,\n",
       "        'Status': 'attached',\n",
       "        'NetworkCardIndex': 0},\n",
       "       'Description': '',\n",
       "       'Groups': [{'GroupId': 'sg-0ff9d3eff9df39577', 'GroupName': 'default'}],\n",
       "       'Ipv6Addresses': [],\n",
       "       'MacAddress': '02:2b:49:39:08:f7',\n",
       "       'NetworkInterfaceId': 'eni-086da02e5dd9aa4be',\n",
       "       'OwnerId': '109958552134',\n",
       "       'PrivateDnsName': 'ip-172-31-1-43.us-east-2.compute.internal',\n",
       "       'PrivateIpAddress': '172.31.1.43',\n",
       "       'PrivateIpAddresses': [{'Association': {'IpOwnerId': 'amazon',\n",
       "          'PublicDnsName': 'ec2-18-227-21-203.us-east-2.compute.amazonaws.com',\n",
       "          'PublicIp': '18.227.21.203'},\n",
       "         'Primary': True,\n",
       "         'PrivateDnsName': 'ip-172-31-1-43.us-east-2.compute.internal',\n",
       "         'PrivateIpAddress': '172.31.1.43'}],\n",
       "       'SourceDestCheck': True,\n",
       "       'Status': 'in-use',\n",
       "       'SubnetId': 'subnet-0c6be48ce84577b11',\n",
       "       'VpcId': 'vpc-0597e14c3a21b49d0',\n",
       "       'InterfaceType': 'interface',\n",
       "       'Operator': {'Managed': False}}],\n",
       "     'RootDeviceName': '/dev/xvda',\n",
       "     'RootDeviceType': 'ebs',\n",
       "     'SecurityGroups': [{'GroupId': 'sg-0ff9d3eff9df39577',\n",
       "       'GroupName': 'default'}],\n",
       "     'SourceDestCheck': True,\n",
       "     'VirtualizationType': 'hvm',\n",
       "     'CpuOptions': {'CoreCount': 1, 'ThreadsPerCore': 1},\n",
       "     'CapacityReservationSpecification': {'CapacityReservationPreference': 'open'},\n",
       "     'HibernationOptions': {'Configured': False},\n",
       "     'MetadataOptions': {'State': 'applied',\n",
       "      'HttpTokens': 'required',\n",
       "      'HttpPutResponseHopLimit': 2,\n",
       "      'HttpEndpoint': 'enabled',\n",
       "      'HttpProtocolIpv6': 'disabled',\n",
       "      'InstanceMetadataTags': 'disabled'},\n",
       "     'EnclaveOptions': {'Enabled': False},\n",
       "     'BootMode': 'uefi-preferred',\n",
       "     'PlatformDetails': 'Linux/UNIX',\n",
       "     'UsageOperation': 'RunInstances',\n",
       "     'UsageOperationUpdateTime': datetime.datetime(2025, 4, 23, 5, 7, 27, tzinfo=tzutc()),\n",
       "     'PrivateDnsNameOptions': {'HostnameType': 'ip-name',\n",
       "      'EnableResourceNameDnsARecord': False,\n",
       "      'EnableResourceNameDnsAAAARecord': False},\n",
       "     'MaintenanceOptions': {'AutoRecovery': 'default'},\n",
       "     'CurrentInstanceBootMode': 'legacy-bios',\n",
       "     'NetworkPerformanceOptions': {'BandwidthWeighting': 'default'},\n",
       "     'Operator': {'Managed': False},\n",
       "     'InstanceId': 'i-0082412cfd6ca814d',\n",
       "     'ImageId': 'ami-060a84cbcb5c14844',\n",
       "     'State': {'Code': 16, 'Name': 'running'},\n",
       "     'PrivateDnsName': 'ip-172-31-1-43.us-east-2.compute.internal',\n",
       "     'PublicDnsName': 'ec2-18-227-21-203.us-east-2.compute.amazonaws.com',\n",
       "     'StateTransitionReason': '',\n",
       "     'KeyName': 'chriskeyaccess2',\n",
       "     'AmiLaunchIndex': 0,\n",
       "     'ProductCodes': [],\n",
       "     'InstanceType': 't2.micro',\n",
       "     'LaunchTime': datetime.datetime(2025, 4, 23, 5, 7, 27, tzinfo=tzutc()),\n",
       "     'Placement': {'GroupName': '',\n",
       "      'Tenancy': 'default',\n",
       "      'AvailabilityZone': 'us-east-2a'},\n",
       "     'Monitoring': {'State': 'disabled'},\n",
       "     'SubnetId': 'subnet-0c6be48ce84577b11',\n",
       "     'VpcId': 'vpc-0597e14c3a21b49d0',\n",
       "     'PrivateIpAddress': '172.31.1.43',\n",
       "     'PublicIpAddress': '18.227.21.203'}]},\n",
       "  {'ReservationId': 'r-0829f6882d32112c1',\n",
       "   'OwnerId': '109958552134',\n",
       "   'Groups': [],\n",
       "   'Instances': [{'Architecture': 'x86_64',\n",
       "     'BlockDeviceMappings': [{'DeviceName': '/dev/sda1',\n",
       "       'Ebs': {'AttachTime': datetime.datetime(2025, 4, 22, 19, 31, 1, tzinfo=tzutc()),\n",
       "        'DeleteOnTermination': True,\n",
       "        'Status': 'attached',\n",
       "        'VolumeId': 'vol-026af3a12e7dcdf1c'}}],\n",
       "     'ClientToken': '459a4414-b130-4838-95c3-6b42249eaabc',\n",
       "     'EbsOptimized': True,\n",
       "     'EnaSupport': True,\n",
       "     'Hypervisor': 'xen',\n",
       "     'NetworkInterfaces': [{'Association': {'IpOwnerId': 'amazon',\n",
       "        'PublicDnsName': 'ec2-3-138-169-103.us-east-2.compute.amazonaws.com',\n",
       "        'PublicIp': '3.138.169.103'},\n",
       "       'Attachment': {'AttachTime': datetime.datetime(2025, 4, 22, 19, 31, tzinfo=tzutc()),\n",
       "        'AttachmentId': 'eni-attach-0a0ff85ec319de122',\n",
       "        'DeleteOnTermination': True,\n",
       "        'DeviceIndex': 0,\n",
       "        'Status': 'attached',\n",
       "        'NetworkCardIndex': 0},\n",
       "       'Description': '',\n",
       "       'Groups': [{'GroupId': 'sg-0fa272fba8d5dc9bf',\n",
       "         'GroupName': 'launch-wizard-3'}],\n",
       "       'Ipv6Addresses': [],\n",
       "       'MacAddress': '06:2f:b6:f0:80:5d',\n",
       "       'NetworkInterfaceId': 'eni-086cc4fd3fb8380fa',\n",
       "       'OwnerId': '109958552134',\n",
       "       'PrivateDnsName': 'ip-172-31-19-230.us-east-2.compute.internal',\n",
       "       'PrivateIpAddress': '172.31.19.230',\n",
       "       'PrivateIpAddresses': [{'Association': {'IpOwnerId': 'amazon',\n",
       "          'PublicDnsName': 'ec2-3-138-169-103.us-east-2.compute.amazonaws.com',\n",
       "          'PublicIp': '3.138.169.103'},\n",
       "         'Primary': True,\n",
       "         'PrivateDnsName': 'ip-172-31-19-230.us-east-2.compute.internal',\n",
       "         'PrivateIpAddress': '172.31.19.230'}],\n",
       "       'SourceDestCheck': True,\n",
       "       'Status': 'in-use',\n",
       "       'SubnetId': 'subnet-0143025dc1052fa9a',\n",
       "       'VpcId': 'vpc-0597e14c3a21b49d0',\n",
       "       'InterfaceType': 'interface',\n",
       "       'Operator': {'Managed': False}}],\n",
       "     'RootDeviceName': '/dev/sda1',\n",
       "     'RootDeviceType': 'ebs',\n",
       "     'SecurityGroups': [{'GroupId': 'sg-0fa272fba8d5dc9bf',\n",
       "       'GroupName': 'launch-wizard-3'}],\n",
       "     'SourceDestCheck': True,\n",
       "     'Tags': [{'Key': 'Name', 'Value': 'chrisvirtualmachine'}],\n",
       "     'VirtualizationType': 'hvm',\n",
       "     'CpuOptions': {'CoreCount': 1, 'ThreadsPerCore': 2},\n",
       "     'CapacityReservationSpecification': {'CapacityReservationPreference': 'open'},\n",
       "     'HibernationOptions': {'Configured': False},\n",
       "     'MetadataOptions': {'State': 'applied',\n",
       "      'HttpTokens': 'required',\n",
       "      'HttpPutResponseHopLimit': 2,\n",
       "      'HttpEndpoint': 'enabled',\n",
       "      'HttpProtocolIpv6': 'disabled',\n",
       "      'InstanceMetadataTags': 'disabled'},\n",
       "     'EnclaveOptions': {'Enabled': False},\n",
       "     'BootMode': 'uefi',\n",
       "     'PlatformDetails': 'Windows',\n",
       "     'UsageOperation': 'RunInstances:0002',\n",
       "     'UsageOperationUpdateTime': datetime.datetime(2025, 4, 22, 19, 31, tzinfo=tzutc()),\n",
       "     'PrivateDnsNameOptions': {'HostnameType': 'ip-name',\n",
       "      'EnableResourceNameDnsARecord': True,\n",
       "      'EnableResourceNameDnsAAAARecord': False},\n",
       "     'MaintenanceOptions': {'AutoRecovery': 'default'},\n",
       "     'CurrentInstanceBootMode': 'uefi',\n",
       "     'NetworkPerformanceOptions': {'BandwidthWeighting': 'default'},\n",
       "     'Operator': {'Managed': False},\n",
       "     'InstanceId': 'i-02b7df2e786e37b4d',\n",
       "     'ImageId': 'ami-06f239dc2703bfeb6',\n",
       "     'State': {'Code': 16, 'Name': 'running'},\n",
       "     'PrivateDnsName': 'ip-172-31-19-230.us-east-2.compute.internal',\n",
       "     'PublicDnsName': 'ec2-3-138-169-103.us-east-2.compute.amazonaws.com',\n",
       "     'StateTransitionReason': '',\n",
       "     'KeyName': 'mykey',\n",
       "     'AmiLaunchIndex': 0,\n",
       "     'ProductCodes': [],\n",
       "     'InstanceType': 't3.micro',\n",
       "     'LaunchTime': datetime.datetime(2025, 4, 22, 19, 31, tzinfo=tzutc()),\n",
       "     'Placement': {'GroupName': '',\n",
       "      'Tenancy': 'default',\n",
       "      'AvailabilityZone': 'us-east-2b'},\n",
       "     'Platform': 'windows',\n",
       "     'Monitoring': {'State': 'disabled'},\n",
       "     'SubnetId': 'subnet-0143025dc1052fa9a',\n",
       "     'VpcId': 'vpc-0597e14c3a21b49d0',\n",
       "     'PrivateIpAddress': '172.31.19.230',\n",
       "     'PublicIpAddress': '3.138.169.103'}]}],\n",
       " 'ResponseMetadata': {'RequestId': '15406cbc-489c-4510-8f6b-13a26ddc2463',\n",
       "  'HTTPStatusCode': 200,\n",
       "  'HTTPHeaders': {'x-amzn-requestid': '15406cbc-489c-4510-8f6b-13a26ddc2463',\n",
       "   'cache-control': 'no-cache, no-store',\n",
       "   'strict-transport-security': 'max-age=31536000; includeSubDomains',\n",
       "   'vary': 'accept-encoding',\n",
       "   'content-type': 'text/xml;charset=UTF-8',\n",
       "   'transfer-encoding': 'chunked',\n",
       "   'date': 'Wed, 23 Apr 2025 05:15:42 GMT',\n",
       "   'server': 'AmazonEC2'},\n",
       "  'RetryAttempts': 0}}"
      ]
     },
     "execution_count": 35,
     "metadata": {},
     "output_type": "execute_result"
    }
   ],
   "source": [
    "ec2.describe_instances()"
   ]
  },
  {
   "cell_type": "code",
   "execution_count": 36,
   "id": "94737035",
   "metadata": {},
   "outputs": [
    {
     "data": {
      "text/plain": [
       "{'SecurityGroups': [{'GroupId': 'sg-0ff9d3eff9df39577',\n",
       "   'IpPermissionsEgress': [{'IpProtocol': '-1',\n",
       "     'UserIdGroupPairs': [],\n",
       "     'IpRanges': [{'CidrIp': '0.0.0.0/0'}],\n",
       "     'Ipv6Ranges': [],\n",
       "     'PrefixListIds': []}],\n",
       "   'VpcId': 'vpc-0597e14c3a21b49d0',\n",
       "   'SecurityGroupArn': 'arn:aws:ec2:us-east-2:109958552134:security-group/sg-0ff9d3eff9df39577',\n",
       "   'OwnerId': '109958552134',\n",
       "   'GroupName': 'default',\n",
       "   'Description': 'default VPC security group',\n",
       "   'IpPermissions': [{'IpProtocol': '-1',\n",
       "     'UserIdGroupPairs': [],\n",
       "     'IpRanges': [{'CidrIp': '0.0.0.0/0'}],\n",
       "     'Ipv6Ranges': [],\n",
       "     'PrefixListIds': []}]},\n",
       "  {'GroupId': 'sg-06f4f89db5f401912',\n",
       "   'IpPermissionsEgress': [{'IpProtocol': '-1',\n",
       "     'UserIdGroupPairs': [],\n",
       "     'IpRanges': [{'CidrIp': '0.0.0.0/0'}],\n",
       "     'Ipv6Ranges': [],\n",
       "     'PrefixListIds': []}],\n",
       "   'VpcId': 'vpc-0597e14c3a21b49d0',\n",
       "   'SecurityGroupArn': 'arn:aws:ec2:us-east-2:109958552134:security-group/sg-06f4f89db5f401912',\n",
       "   'OwnerId': '109958552134',\n",
       "   'GroupName': 'launch-wizard-1',\n",
       "   'Description': 'launch-wizard-1 created 2025-04-19T21:56:16.045Z',\n",
       "   'IpPermissions': [{'IpProtocol': 'tcp',\n",
       "     'FromPort': 3389,\n",
       "     'ToPort': 3389,\n",
       "     'UserIdGroupPairs': [],\n",
       "     'IpRanges': [{'CidrIp': '0.0.0.0/0'}],\n",
       "     'Ipv6Ranges': [],\n",
       "     'PrefixListIds': []}]},\n",
       "  {'GroupId': 'sg-0fa272fba8d5dc9bf',\n",
       "   'IpPermissionsEgress': [{'IpProtocol': '-1',\n",
       "     'UserIdGroupPairs': [],\n",
       "     'IpRanges': [{'CidrIp': '0.0.0.0/0'}],\n",
       "     'Ipv6Ranges': [],\n",
       "     'PrefixListIds': []}],\n",
       "   'VpcId': 'vpc-0597e14c3a21b49d0',\n",
       "   'SecurityGroupArn': 'arn:aws:ec2:us-east-2:109958552134:security-group/sg-0fa272fba8d5dc9bf',\n",
       "   'OwnerId': '109958552134',\n",
       "   'GroupName': 'launch-wizard-3',\n",
       "   'Description': 'launch-wizard-3 created 2025-04-22T19:29:01.946Z',\n",
       "   'IpPermissions': [{'IpProtocol': 'tcp',\n",
       "     'FromPort': 3389,\n",
       "     'ToPort': 3389,\n",
       "     'UserIdGroupPairs': [],\n",
       "     'IpRanges': [{'CidrIp': '0.0.0.0/0'}],\n",
       "     'Ipv6Ranges': [],\n",
       "     'PrefixListIds': []}]},\n",
       "  {'GroupId': 'sg-060518a85068e850c',\n",
       "   'IpPermissionsEgress': [{'IpProtocol': '-1',\n",
       "     'UserIdGroupPairs': [],\n",
       "     'IpRanges': [{'CidrIp': '0.0.0.0/0'}],\n",
       "     'Ipv6Ranges': [],\n",
       "     'PrefixListIds': []}],\n",
       "   'VpcId': 'vpc-0597e14c3a21b49d0',\n",
       "   'SecurityGroupArn': 'arn:aws:ec2:us-east-2:109958552134:security-group/sg-060518a85068e850c',\n",
       "   'OwnerId': '109958552134',\n",
       "   'GroupName': 'launch-wizard-2',\n",
       "   'Description': 'launch-wizard-2 created 2025-04-20T00:30:37.563Z',\n",
       "   'IpPermissions': [{'IpProtocol': 'tcp',\n",
       "     'FromPort': 22,\n",
       "     'ToPort': 22,\n",
       "     'UserIdGroupPairs': [],\n",
       "     'IpRanges': [{'CidrIp': '0.0.0.0/0'}],\n",
       "     'Ipv6Ranges': [],\n",
       "     'PrefixListIds': []}]}],\n",
       " 'ResponseMetadata': {'RequestId': 'da2c98b2-fe65-4e32-8d9d-1e6fa9dd63ea',\n",
       "  'HTTPStatusCode': 200,\n",
       "  'HTTPHeaders': {'x-amzn-requestid': 'da2c98b2-fe65-4e32-8d9d-1e6fa9dd63ea',\n",
       "   'cache-control': 'no-cache, no-store',\n",
       "   'strict-transport-security': 'max-age=31536000; includeSubDomains',\n",
       "   'vary': 'accept-encoding',\n",
       "   'content-type': 'text/xml;charset=UTF-8',\n",
       "   'content-length': '3154',\n",
       "   'date': 'Wed, 23 Apr 2025 19:32:11 GMT',\n",
       "   'server': 'AmazonEC2'},\n",
       "  'RetryAttempts': 0}}"
      ]
     },
     "execution_count": 36,
     "metadata": {},
     "output_type": "execute_result"
    }
   ],
   "source": [
    "response = ec2.describe_security_groups()\n",
    "response"
   ]
  },
  {
   "cell_type": "code",
   "execution_count": null,
   "id": "be4f1fdd",
   "metadata": {},
   "outputs": [
    {
     "data": {
      "text/plain": [
       "'respnse = ec2.create_security_group(\\n    GroupName =\\'morristest\\',\\n    Description = \"Security group for testing.\"\\n\\n\\n)'"
      ]
     },
     "execution_count": 2,
     "metadata": {},
     "output_type": "execute_result"
    }
   ],
   "source": [
    "respnse = ec2.create_security_group(\n",
    "    GroupName ='morristest',\n",
    "    Description = \"Security group for testing.\"\n",
    "\n",
    "    \n",
    ")"
   ]
  },
  {
   "cell_type": "code",
   "execution_count": 41,
   "id": "773c388f",
   "metadata": {},
   "outputs": [
    {
     "data": {
      "text/plain": [
       "'sg-009ff7354e20e6f05'"
      ]
     },
     "execution_count": 41,
     "metadata": {},
     "output_type": "execute_result"
    }
   ],
   "source": [
    "security_group_id = respnse['GroupId'] \n",
    "\n",
    "security_group_id"
   ]
  },
  {
   "cell_type": "code",
   "execution_count": 46,
   "id": "3f1f26e8",
   "metadata": {},
   "outputs": [],
   "source": [
    "# ip. port, traffic type\n",
    "\n",
    "response = ec2.authorize_security_group_ingress(\n",
    "\n",
    "    GroupId = security_group_id,\n",
    "    IpPermissions = [\n",
    "        {\n",
    "            'IpProtocol': 'tcp',\n",
    "            'FromPort': 22,\n",
    "            'ToPort': 22,\n",
    "            'IpRanges': [{'CidrIp': '0.0.0.0/0'}]\n",
    "        }\n",
    "    ]\n",
    ")\n"
   ]
  },
  {
   "cell_type": "code",
   "execution_count": 47,
   "id": "f76825a8",
   "metadata": {},
   "outputs": [
    {
     "data": {
      "text/plain": [
       "{'Return': True,\n",
       " 'SecurityGroupRules': [{'SecurityGroupRuleId': 'sgr-01131de8171e033df',\n",
       "   'GroupId': 'sg-009ff7354e20e6f05',\n",
       "   'GroupOwnerId': '109958552134',\n",
       "   'IsEgress': False,\n",
       "   'IpProtocol': 'tcp',\n",
       "   'FromPort': 22,\n",
       "   'ToPort': 22,\n",
       "   'CidrIpv4': '0.0.0.0/0',\n",
       "   'SecurityGroupRuleArn': 'arn:aws:ec2:us-east-2:109958552134:security-group-rule/sgr-01131de8171e033df'}],\n",
       " 'ResponseMetadata': {'RequestId': '9e13a333-9783-49bf-b87c-27afb1b1d8c9',\n",
       "  'HTTPStatusCode': 200,\n",
       "  'HTTPHeaders': {'x-amzn-requestid': '9e13a333-9783-49bf-b87c-27afb1b1d8c9',\n",
       "   'cache-control': 'no-cache, no-store',\n",
       "   'strict-transport-security': 'max-age=31536000; includeSubDomains',\n",
       "   'content-type': 'text/xml;charset=UTF-8',\n",
       "   'content-length': '696',\n",
       "   'date': 'Wed, 23 Apr 2025 20:17:06 GMT',\n",
       "   'server': 'AmazonEC2'},\n",
       "  'RetryAttempts': 0}}"
      ]
     },
     "execution_count": 47,
     "metadata": {},
     "output_type": "execute_result"
    }
   ],
   "source": [
    "response"
   ]
  },
  {
   "cell_type": "code",
   "execution_count": null,
   "id": "ea25c382",
   "metadata": {},
   "outputs": [],
   "source": []
  },
  {
   "cell_type": "code",
   "execution_count": 53,
   "id": "75b59c4e",
   "metadata": {},
   "outputs": [],
   "source": [
    "response = ec2.describe_instances()"
   ]
  },
  {
   "cell_type": "code",
   "execution_count": 54,
   "id": "005afac0",
   "metadata": {},
   "outputs": [],
   "source": [
    "instance_id = response['Reservations'][0]['Instances'][0]['InstanceId']"
   ]
  },
  {
   "cell_type": "code",
   "execution_count": 56,
   "id": "1fb144bb",
   "metadata": {},
   "outputs": [
    {
     "data": {
      "text/plain": [
       "('i-0082412cfd6ca814d', 'sg-009ff7354e20e6f05')"
      ]
     },
     "execution_count": 56,
     "metadata": {},
     "output_type": "execute_result"
    }
   ],
   "source": [
    "instance_id, security_group_id"
   ]
  },
  {
   "cell_type": "code",
   "execution_count": 60,
   "id": "4311ab74",
   "metadata": {},
   "outputs": [],
   "source": [
    "old_gid = response['Reservations'][0]['Instances'][0]['SecurityGroups'][0]['GroupId']"
   ]
  },
  {
   "cell_type": "code",
   "execution_count": null,
   "id": "052bf8cf",
   "metadata": {},
   "outputs": [],
   "source": []
  },
  {
   "cell_type": "code",
   "execution_count": 67,
   "id": "35b358b7",
   "metadata": {},
   "outputs": [
    {
     "data": {
      "text/plain": [
       "{'ResponseMetadata': {'RequestId': 'a430400b-b08f-4c66-871d-5323853cf1c0',\n",
       "  'HTTPStatusCode': 200,\n",
       "  'HTTPHeaders': {'x-amzn-requestid': 'a430400b-b08f-4c66-871d-5323853cf1c0',\n",
       "   'cache-control': 'no-cache, no-store',\n",
       "   'strict-transport-security': 'max-age=31536000; includeSubDomains',\n",
       "   'content-type': 'text/xml;charset=UTF-8',\n",
       "   'content-length': '235',\n",
       "   'date': 'Wed, 23 Apr 2025 22:25:49 GMT',\n",
       "   'server': 'AmazonEC2'},\n",
       "  'RetryAttempts': 0}}"
      ]
     },
     "execution_count": 67,
     "metadata": {},
     "output_type": "execute_result"
    }
   ],
   "source": [
    "ec2.modify_instance_attribute(\n",
    "    InstanceId=instance_id,         # Must be exactly \"InstanceId\" :contentReference[oaicite:1]{index=1}\n",
    "    Groups=[security_group_id]      # Must be a list of SG IDs :contentReference[oaicite:2]{index=2}\n",
    ")"
   ]
  },
  {
   "cell_type": "code",
   "execution_count": null,
   "id": "40f814b6",
   "metadata": {},
   "outputs": [],
   "source": []
  },
  {
   "cell_type": "markdown",
   "id": "9fb1f625",
   "metadata": {},
   "source": [
    "START AND STOP OR DELETE THE EC2 INSTANCES....\n",
    "\n"
   ]
  },
  {
   "cell_type": "code",
   "execution_count": null,
   "id": "7acaa2af",
   "metadata": {},
   "outputs": [
    {
     "data": {
      "text/plain": [
       "'import time\\n#response[\\'Reservations\\'][0][\\'Instances\\'][0][\\'State\\'][\\'Name\\']\\n\\ndef wait_for_status(instance_id, target_status):\\n\\n    while True:\\n        response = ec2.describe_instances(InstanceIds=instance_id)\\n\\n        status = response[\\'Reservations\\'][0][\\'Instances\\'][0][\\'State\\'][\\'Name\\']\\n        if status == target_status:\\n            print(\"Instance is in: {} state\".format(target_status))\\n            break\\n\\n        time.sleep(10)\\n\\ndef start_instances(instance_id):\\n    print(\"EC2 Instance start, Mac...\")\\n    ec2.start_instances(InstanceIds= instance_id)\\n\\n\\n    wait_for_status(instance_id, \"running....\")\\n\\nstart_instances([instance_id])'"
      ]
     },
     "execution_count": 3,
     "metadata": {},
     "output_type": "execute_result"
    }
   ],
   "source": [
    "import time\n",
    "#response['Reservations'][0]['Instances'][0]['State']['Name']\n",
    "\n",
    "def wait_for_status(instance_id, target_status):\n",
    "\n",
    "    while True:\n",
    "        response = ec2.describe_instances(InstanceIds=instance_id)\n",
    "\n",
    "        status = response['Reservations'][0]['Instances'][0]['State']['Name']\n",
    "        if status == target_status:\n",
    "            print(\"Instance is in: {} state\".format(target_status))\n",
    "            break\n",
    "\n",
    "        time.sleep(10)\n",
    "\n",
    "def start_instances(instance_id):\n",
    "    print(\"EC2 Instance start, Mac...\")\n",
    "    ec2.start_instances(InstanceIds= instance_id)\n",
    "    \n",
    "\n",
    "    wait_for_status(instance_id, \"running....\")\n",
    "\n",
    "start_instances([instance_id])\n"
   ]
  },
  {
   "cell_type": "code",
   "execution_count": null,
   "id": "b8be3925",
   "metadata": {},
   "outputs": [
    {
     "data": {
      "text/plain": [
       "'def stop_instances(instance_id):\\n    print(\"EC2 Instance stopping, Mac...\")\\n    ec2.stop_instances(InstanceIds= instance_id)\\n\\n    wait_for_status(instance_id, \"stopping....\")\\n\\n\\nstop_instances([instance_id])'"
      ]
     },
     "execution_count": 4,
     "metadata": {},
     "output_type": "execute_result"
    }
   ],
   "source": [
    "def stop_instances(instance_id):\n",
    "    print(\"EC2 Instance stopping, Mac...\")\n",
    "    ec2.stop_instances(InstanceIds= instance_id)\n",
    "\n",
    "    wait_for_status(instance_id, \"stopping....\")\n",
    "    \n",
    "\n",
    "stop_instances([instance_id])\n"
   ]
  },
  {
   "cell_type": "code",
   "execution_count": 79,
   "id": "6eaab964",
   "metadata": {},
   "outputs": [
    {
     "name": "stdout",
     "output_type": "stream",
     "text": [
      "EC2 Instance termination...\n",
      "Instance is in: terminated state\n"
     ]
    }
   ],
   "source": [
    "def terminate_instances(instance_id):\n",
    "    print(\"EC2 Instance termination...\")\n",
    "    ec2.terminate_instances(InstanceIds= instance_id)\n",
    "\n",
    "    wait_for_status(instance_id, \"terminated\")\n",
    "    \n",
    "\n",
    "terminate_instances([instance_id])"
   ]
  },
  {
   "cell_type": "code",
   "execution_count": null,
   "id": "edb0043c",
   "metadata": {},
   "outputs": [],
   "source": []
  },
  {
   "cell_type": "code",
   "execution_count": null,
   "id": "901d4cb9",
   "metadata": {},
   "outputs": [],
   "source": []
  },
  {
   "cell_type": "code",
   "execution_count": null,
   "id": "dff2a221",
   "metadata": {},
   "outputs": [],
   "source": []
  },
  {
   "cell_type": "code",
   "execution_count": null,
   "id": "b1e67a5a",
   "metadata": {},
   "outputs": [],
   "source": []
  },
  {
   "cell_type": "code",
   "execution_count": null,
   "id": "da7c4168",
   "metadata": {},
   "outputs": [],
   "source": []
  },
  {
   "cell_type": "code",
   "execution_count": null,
   "id": "bd786420",
   "metadata": {},
   "outputs": [],
   "source": []
  },
  {
   "cell_type": "code",
   "execution_count": null,
   "id": "16d3c567",
   "metadata": {},
   "outputs": [],
   "source": []
  },
  {
   "cell_type": "code",
   "execution_count": null,
   "id": "68a30465",
   "metadata": {},
   "outputs": [],
   "source": []
  },
  {
   "cell_type": "code",
   "execution_count": null,
   "id": "dd6ad91d",
   "metadata": {},
   "outputs": [],
   "source": []
  }
 ],
 "metadata": {
  "kernelspec": {
   "display_name": "venv",
   "language": "python",
   "name": "python3"
  },
  "language_info": {
   "codemirror_mode": {
    "name": "ipython",
    "version": 3
   },
   "file_extension": ".py",
   "mimetype": "text/x-python",
   "name": "python",
   "nbconvert_exporter": "python",
   "pygments_lexer": "ipython3",
   "version": "3.11.4"
  }
 },
 "nbformat": 4,
 "nbformat_minor": 5
}
