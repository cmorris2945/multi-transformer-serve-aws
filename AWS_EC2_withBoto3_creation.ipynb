{
 "cells": [
  {
   "cell_type": "code",
   "execution_count": 1,
   "id": "05da14b9",
   "metadata": {},
   "outputs": [
    {
     "name": "stdout",
     "output_type": "stream",
     "text": [
      "Defaulting to user installation because normal site-packages is not writeable\n",
      "Requirement already satisfied: boto3 in c:\\users\\chris' pc\\appdata\\roaming\\python\\python311\\site-packages (1.38.0)\n",
      "Requirement already satisfied: botocore<1.39.0,>=1.38.0 in c:\\users\\chris' pc\\appdata\\roaming\\python\\python311\\site-packages (from boto3) (1.38.0)\n",
      "Requirement already satisfied: jmespath<2.0.0,>=0.7.1 in c:\\programdata\\anaconda3\\lib\\site-packages (from boto3) (1.0.1)\n",
      "Requirement already satisfied: s3transfer<0.13.0,>=0.12.0 in c:\\users\\chris' pc\\appdata\\roaming\\python\\python311\\site-packages (from boto3) (0.12.0)\n",
      "Requirement already satisfied: python-dateutil<3.0.0,>=2.1 in c:\\programdata\\anaconda3\\lib\\site-packages (from botocore<1.39.0,>=1.38.0->boto3) (2.8.2)\n",
      "Requirement already satisfied: urllib3!=2.2.0,<3,>=1.25.4 in c:\\programdata\\anaconda3\\lib\\site-packages (from botocore<1.39.0,>=1.38.0->boto3) (2.0.7)\n",
      "Requirement already satisfied: six>=1.5 in c:\\programdata\\anaconda3\\lib\\site-packages (from python-dateutil<3.0.0,>=2.1->botocore<1.39.0,>=1.38.0->boto3) (1.16.0)\n"
     ]
    }
   ],
   "source": [
    "!pip install boto3"
   ]
  },
  {
   "cell_type": "code",
   "execution_count": 24,
   "id": "2471838c",
   "metadata": {},
   "outputs": [],
   "source": [
    "import boto3\n"
   ]
  },
  {
   "cell_type": "code",
   "execution_count": null,
   "id": "dea1e731",
   "metadata": {},
   "outputs": [],
   "source": [
    "ec2 = boto3.client('ec2')\n",
    "ec2.describe_instances()\n",
    "\n",
    "\n",
    "resp = ec2.create_key_pair(KeyName=\"chriskeyaccess2.pem\")"
   ]
  },
  {
   "cell_type": "code",
   "execution_count": 1,
   "id": "250d4fe8",
   "metadata": {},
   "outputs": [],
   "source": [
    "#resp"
   ]
  },
  {
   "cell_type": "code",
   "execution_count": null,
   "id": "ee85a90f",
   "metadata": {},
   "outputs": [
    {
     "data": {
      "text/plain": [
       "<function TextIOWrapper.close()>"
      ]
     },
     "execution_count": 23,
     "metadata": {},
     "output_type": "execute_result"
    }
   ],
   "source": [
    "file = open(\"creds\\chriskeyaccess2.pem\", \"w\")\n",
    "file.write(resp['KeyMaterial'])\n",
    "file.close"
   ]
  },
  {
   "cell_type": "markdown",
   "id": "9b063cfb",
   "metadata": {},
   "source": [
    "CREATE A AMAZON EC2 INSTANCE THROUGH BOTO3...."
   ]
  },
  {
   "cell_type": "code",
   "execution_count": null,
   "id": "e12f29b8",
   "metadata": {},
   "outputs": [],
   "source": [
    "ec2 = boto3.client(\"ec2\", region_name=\"us-east-2\")\n",
    "response = ec2.run_instances(\n",
    "    ImageId = 'ami-060a84cbcb5c1###',\n",
    "    MinCount =1,\n",
    "    MaxCount = 1,\n",
    "    InstanceType =  't2.micro',\n",
    "    KeyName = 'chriskey#######',\n",
    "    BlockDeviceMappings = [\n",
    "        { \n",
    "            \"DeviceName\": \"/dev/xvda\",\n",
    "            \"Ebs\": {\n",
    "                \"DeleteOnTermination\": True,\n",
    "                \"VolumeSize\": 20\n",
    "            }\n",
    "        }\n",
    "    ]\n",
    "\n",
    "\n",
    ")"
   ]
  },
  {
   "cell_type": "markdown",
   "id": "95d68d6b",
   "metadata": {},
   "source": []
  },
  {
   "cell_type": "code",
   "execution_count": 2,
   "id": "2bf4813b",
   "metadata": {},
   "outputs": [],
   "source": [
    "#response"
   ]
  },
  {
   "cell_type": "code",
   "execution_count": 5,
   "id": "7a6bd4fa",
   "metadata": {},
   "outputs": [],
   "source": [
    "#ec2.describe_instances()"
   ]
  },
  {
   "cell_type": "code",
   "execution_count": 4,
   "id": "94737035",
   "metadata": {},
   "outputs": [],
   "source": [
    "#response = ec2.describe_security_groups()\n",
    "#response"
   ]
  },
  {
   "cell_type": "code",
   "execution_count": null,
   "id": "be4f1fdd",
   "metadata": {},
   "outputs": [
    {
     "data": {
      "text/plain": [
       "'respnse = ec2.create_security_group(\\n    GroupName =\\'morristest\\',\\n    Description = \"Security group for testing.\"\\n\\n\\n)'"
      ]
     },
     "execution_count": 2,
     "metadata": {},
     "output_type": "execute_result"
    }
   ],
   "source": [
    "respnse = ec2.create_security_group(\n",
    "    GroupName ='morristest',\n",
    "    Description = \"Security group for testing.\"\n",
    "\n",
    "    \n",
    ")"
   ]
  },
  {
   "cell_type": "code",
   "execution_count": 41,
   "id": "773c388f",
   "metadata": {},
   "outputs": [
    {
     "data": {
      "text/plain": [
       "'sg-009ff7354e20e6f05'"
      ]
     },
     "execution_count": 41,
     "metadata": {},
     "output_type": "execute_result"
    }
   ],
   "source": [
    "security_group_id = respnse['GroupId'] \n",
    "\n",
    "security_group_id"
   ]
  },
  {
   "cell_type": "code",
   "execution_count": 46,
   "id": "3f1f26e8",
   "metadata": {},
   "outputs": [],
   "source": [
    "# ip. port, traffic type\n",
    "\n",
    "response = ec2.authorize_security_group_ingress(\n",
    "\n",
    "    GroupId = security_group_id,\n",
    "    IpPermissions = [\n",
    "        {\n",
    "            'IpProtocol': 'tcp',\n",
    "            'FromPort': 22,\n",
    "            'ToPort': 22,\n",
    "            'IpRanges': [{'CidrIp': '0.0.0.0/0'}]\n",
    "        }\n",
    "    ]\n",
    ")\n"
   ]
  },
  {
   "cell_type": "code",
   "execution_count": 6,
   "id": "f76825a8",
   "metadata": {},
   "outputs": [],
   "source": [
    "#response"
   ]
  },
  {
   "cell_type": "code",
   "execution_count": null,
   "id": "ea25c382",
   "metadata": {},
   "outputs": [],
   "source": []
  },
  {
   "cell_type": "code",
   "execution_count": 53,
   "id": "75b59c4e",
   "metadata": {},
   "outputs": [],
   "source": [
    "response = ec2.describe_instances()"
   ]
  },
  {
   "cell_type": "code",
   "execution_count": 54,
   "id": "005afac0",
   "metadata": {},
   "outputs": [],
   "source": [
    "instance_id = response['Reservations'][0]['Instances'][0]['InstanceId']"
   ]
  },
  {
   "cell_type": "code",
   "execution_count": 56,
   "id": "1fb144bb",
   "metadata": {},
   "outputs": [
    {
     "data": {
      "text/plain": [
       "('i-0082412cfd6ca814d', 'sg-009ff7354e20e6f05')"
      ]
     },
     "execution_count": 56,
     "metadata": {},
     "output_type": "execute_result"
    }
   ],
   "source": [
    "instance_id, security_group_id"
   ]
  },
  {
   "cell_type": "code",
   "execution_count": 60,
   "id": "4311ab74",
   "metadata": {},
   "outputs": [],
   "source": [
    "old_gid = response['Reservations'][0]['Instances'][0]['SecurityGroups'][0]['GroupId']"
   ]
  },
  {
   "cell_type": "code",
   "execution_count": null,
   "id": "052bf8cf",
   "metadata": {},
   "outputs": [],
   "source": []
  },
  {
   "cell_type": "code",
   "execution_count": 67,
   "id": "35b358b7",
   "metadata": {},
   "outputs": [
    {
     "data": {
      "text/plain": [
       "{'ResponseMetadata': {'RequestId': 'a430400b-b08f-4c66-871d-5323853cf1c0',\n",
       "  'HTTPStatusCode': 200,\n",
       "  'HTTPHeaders': {'x-amzn-requestid': 'a430400b-b08f-4c66-871d-5323853cf1c0',\n",
       "   'cache-control': 'no-cache, no-store',\n",
       "   'strict-transport-security': 'max-age=31536000; includeSubDomains',\n",
       "   'content-type': 'text/xml;charset=UTF-8',\n",
       "   'content-length': '235',\n",
       "   'date': 'Wed, 23 Apr 2025 22:25:49 GMT',\n",
       "   'server': 'AmazonEC2'},\n",
       "  'RetryAttempts': 0}}"
      ]
     },
     "execution_count": 67,
     "metadata": {},
     "output_type": "execute_result"
    }
   ],
   "source": [
    "ec2.modify_instance_attribute(\n",
    "    InstanceId=instance_id,         # Must be exactly \"InstanceId\" :contentReference[oaicite:1]{index=1}\n",
    "    Groups=[security_group_id]      # Must be a list of SG IDs :contentReference[oaicite:2]{index=2}\n",
    ")"
   ]
  },
  {
   "cell_type": "code",
   "execution_count": null,
   "id": "40f814b6",
   "metadata": {},
   "outputs": [],
   "source": []
  },
  {
   "cell_type": "markdown",
   "id": "9fb1f625",
   "metadata": {},
   "source": [
    "START AND STOP OR DELETE THE EC2 INSTANCES....\n",
    "\n"
   ]
  },
  {
   "cell_type": "code",
   "execution_count": null,
   "id": "7acaa2af",
   "metadata": {},
   "outputs": [
    {
     "data": {
      "text/plain": [
       "'import time\\n#response[\\'Reservations\\'][0][\\'Instances\\'][0][\\'State\\'][\\'Name\\']\\n\\ndef wait_for_status(instance_id, target_status):\\n\\n    while True:\\n        response = ec2.describe_instances(InstanceIds=instance_id)\\n\\n        status = response[\\'Reservations\\'][0][\\'Instances\\'][0][\\'State\\'][\\'Name\\']\\n        if status == target_status:\\n            print(\"Instance is in: {} state\".format(target_status))\\n            break\\n\\n        time.sleep(10)\\n\\ndef start_instances(instance_id):\\n    print(\"EC2 Instance start, Mac...\")\\n    ec2.start_instances(InstanceIds= instance_id)\\n\\n\\n    wait_for_status(instance_id, \"running....\")\\n\\nstart_instances([instance_id])'"
      ]
     },
     "execution_count": 3,
     "metadata": {},
     "output_type": "execute_result"
    }
   ],
   "source": [
    "import time\n",
    "#response['Reservations'][0]['Instances'][0]['State']['Name']\n",
    "\n",
    "def wait_for_status(instance_id, target_status):\n",
    "\n",
    "    while True:\n",
    "        response = ec2.describe_instances(InstanceIds=instance_id)\n",
    "\n",
    "        status = response['Reservations'][0]['Instances'][0]['State']['Name']\n",
    "        if status == target_status:\n",
    "            print(\"Instance is in: {} state\".format(target_status))\n",
    "            break\n",
    "\n",
    "        time.sleep(10)\n",
    "\n",
    "def start_instances(instance_id):\n",
    "    print(\"EC2 Instance start, Mac...\")\n",
    "    ec2.start_instances(InstanceIds= instance_id)\n",
    "    \n",
    "\n",
    "    wait_for_status(instance_id, \"running....\")\n",
    "\n",
    "start_instances([instance_id])\n"
   ]
  },
  {
   "cell_type": "code",
   "execution_count": null,
   "id": "b8be3925",
   "metadata": {},
   "outputs": [
    {
     "data": {
      "text/plain": [
       "'def stop_instances(instance_id):\\n    print(\"EC2 Instance stopping, Mac...\")\\n    ec2.stop_instances(InstanceIds= instance_id)\\n\\n    wait_for_status(instance_id, \"stopping....\")\\n\\n\\nstop_instances([instance_id])'"
      ]
     },
     "execution_count": 4,
     "metadata": {},
     "output_type": "execute_result"
    }
   ],
   "source": [
    "def stop_instances(instance_id):\n",
    "    print(\"EC2 Instance stopping, Mac...\")\n",
    "    ec2.stop_instances(InstanceIds= instance_id)\n",
    "\n",
    "    wait_for_status(instance_id, \"stopping....\")\n",
    "    \n",
    "\n",
    "stop_instances([instance_id])\n"
   ]
  },
  {
   "cell_type": "code",
   "execution_count": 79,
   "id": "6eaab964",
   "metadata": {},
   "outputs": [
    {
     "name": "stdout",
     "output_type": "stream",
     "text": [
      "EC2 Instance termination...\n",
      "Instance is in: terminated state\n"
     ]
    }
   ],
   "source": [
    "def terminate_instances(instance_id):\n",
    "    print(\"EC2 Instance termination...\")\n",
    "    ec2.terminate_instances(InstanceIds= instance_id)\n",
    "\n",
    "    wait_for_status(instance_id, \"terminated\")\n",
    "    \n",
    "\n",
    "terminate_instances([instance_id])"
   ]
  },
  {
   "cell_type": "code",
   "execution_count": null,
   "id": "edb0043c",
   "metadata": {},
   "outputs": [],
   "source": []
  },
  {
   "cell_type": "code",
   "execution_count": null,
   "id": "901d4cb9",
   "metadata": {},
   "outputs": [],
   "source": []
  },
  {
   "cell_type": "code",
   "execution_count": null,
   "id": "dff2a221",
   "metadata": {},
   "outputs": [],
   "source": []
  },
  {
   "cell_type": "code",
   "execution_count": null,
   "id": "b1e67a5a",
   "metadata": {},
   "outputs": [],
   "source": []
  },
  {
   "cell_type": "code",
   "execution_count": null,
   "id": "da7c4168",
   "metadata": {},
   "outputs": [],
   "source": []
  },
  {
   "cell_type": "code",
   "execution_count": null,
   "id": "bd786420",
   "metadata": {},
   "outputs": [],
   "source": []
  },
  {
   "cell_type": "code",
   "execution_count": null,
   "id": "16d3c567",
   "metadata": {},
   "outputs": [],
   "source": []
  },
  {
   "cell_type": "code",
   "execution_count": null,
   "id": "68a30465",
   "metadata": {},
   "outputs": [],
   "source": []
  },
  {
   "cell_type": "code",
   "execution_count": null,
   "id": "dd6ad91d",
   "metadata": {},
   "outputs": [],
   "source": []
  }
 ],
 "metadata": {
  "kernelspec": {
   "display_name": "venv",
   "language": "python",
   "name": "python3"
  },
  "language_info": {
   "codemirror_mode": {
    "name": "ipython",
    "version": 3
   },
   "file_extension": ".py",
   "mimetype": "text/x-python",
   "name": "python",
   "nbconvert_exporter": "python",
   "pygments_lexer": "ipython3",
   "version": "3.11.4"
  }
 },
 "nbformat": 4,
 "nbformat_minor": 5
}
