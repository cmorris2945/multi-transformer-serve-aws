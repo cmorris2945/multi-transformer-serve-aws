{
 "cells": [
  {
   "cell_type": "code",
   "execution_count": null,
   "id": "e04360ef",
   "metadata": {},
   "outputs": [],
   "source": []
  },
  {
   "cell_type": "code",
   "execution_count": null,
   "id": "76e9dc88",
   "metadata": {},
   "outputs": [],
   "source": [
    "import boto3\n",
    "\n",
    "s3 = boto3.client('s3', region_name = 'us-east-2')\n",
    "\n",
    "bucket_name = \"\""
   ]
  },
  {
   "cell_type": "code",
   "execution_count": 7,
   "id": "53eaf6b9",
   "metadata": {},
   "outputs": [],
   "source": [
    "response = s3.list_buckets()"
   ]
  },
  {
   "cell_type": "code",
   "execution_count": 8,
   "id": "fd2118a2",
   "metadata": {},
   "outputs": [
    {
     "data": {
      "text/plain": [
       "{'ResponseMetadata': {'RequestId': '14HGNP04W67BV78T',\n",
       "  'HostId': '615L7pHGgrv6NN5hpi/sR4rwLahJ40RPYAezNtsH0wdm0lp56GmBwl65jOrdAmagSzyU5bhYlJw=',\n",
       "  'HTTPStatusCode': 200,\n",
       "  'HTTPHeaders': {'x-amz-id-2': '615L7pHGgrv6NN5hpi/sR4rwLahJ40RPYAezNtsH0wdm0lp56GmBwl65jOrdAmagSzyU5bhYlJw=',\n",
       "   'x-amz-request-id': '14HGNP04W67BV78T',\n",
       "   'date': 'Thu, 24 Apr 2025 01:00:29 GMT',\n",
       "   'content-type': 'application/xml',\n",
       "   'transfer-encoding': 'chunked',\n",
       "   'server': 'AmazonS3'},\n",
       "  'RetryAttempts': 0},\n",
       " 'Buckets': [],\n",
       " 'Owner': {'ID': 'c10c9cd630c21df91c1dcb39a3ca2f5a723113798db1b18d4715a4d4514a38c2'}}"
      ]
     },
     "execution_count": 8,
     "metadata": {},
     "output_type": "execute_result"
    }
   ],
   "source": [
    "response"
   ]
  },
  {
   "cell_type": "markdown",
   "id": "1067b12d",
   "metadata": {},
   "source": []
  },
  {
   "cell_type": "code",
   "execution_count": 13,
   "id": "273cb37d",
   "metadata": {},
   "outputs": [
    {
     "name": "stdout",
     "output_type": "stream",
     "text": [
      "Bucket is created 'jack' \n"
     ]
    }
   ],
   "source": [
    "def create_bucket(bucket_name):\n",
    "    s3.create_bucket(Bucket=bucket_name, CreateBucketConfiguration={'LocationConstraint': 'us-east-2'})\n",
    "    print(\"Bucket is created 'jack' \")\n",
    "\n",
    "\n",
    "create_bucket(bucket_name)"
   ]
  },
  {
   "cell_type": "markdown",
   "id": "fbb75c10",
   "metadata": {},
   "source": [
    "Upload files to S3 here...."
   ]
  },
  {
   "cell_type": "code",
   "execution_count": 14,
   "id": "15fb9c81",
   "metadata": {},
   "outputs": [],
   "source": [
    "import os\n",
    "\n",
    "def upload_file(file_path, object_name=None):\n",
    "    if object_name is None:\n",
    "        object_name = os.path.basename(file_path)\n",
    "\n",
    "    s3.upload_file(file_path, bucket_name, object_name)\n"
   ]
  },
  {
   "cell_type": "code",
   "execution_count": 16,
   "id": "ee2db0de",
   "metadata": {},
   "outputs": [],
   "source": [
    "upload_file('index.html', \"someotherfile.html\")"
   ]
  },
  {
   "cell_type": "code",
   "execution_count": 19,
   "id": "0f5b52ab",
   "metadata": {},
   "outputs": [],
   "source": [
    "def list_objects():\n",
    "    response = s3.list_objects_v2(Bucket=bucket_name)\n",
    "    for obj in response['Contents']:\n",
    "        print(obj['Key'])"
   ]
  },
  {
   "cell_type": "code",
   "execution_count": 22,
   "id": "02dba769",
   "metadata": {},
   "outputs": [
    {
     "name": "stdout",
     "output_type": "stream",
     "text": [
      "index.html\n",
      "someotherfile.html\n"
     ]
    }
   ],
   "source": [
    "list_objects()"
   ]
  },
  {
   "cell_type": "code",
   "execution_count": 30,
   "id": "e9eb4ec4",
   "metadata": {},
   "outputs": [],
   "source": [
    "def download_file(object_name, file_path):\n",
    "    if not os.path.exists(os.path.dirname(file_path)):\n",
    "        os.makedirs(os.path.dirname(file_path))\n",
    "\n",
    "    s3.download_file(bucket_name, object_name, file_path)\n",
    "\n",
    "download_file(\"index.html\", \"aws_sentiment_program/index.html\")"
   ]
  },
  {
   "cell_type": "code",
   "execution_count": 44,
   "id": "60046109",
   "metadata": {},
   "outputs": [],
   "source": [
    "def upload_directory(directory_path, s3_prefix):\n",
    "    for root, dirs, files in os.walk('aws_sentiment_program'):\n",
    "        for file in files:\n",
    "            file_path = os.path.join(root, file).replace('\\\\', '/')\n",
    "            relpath = os.path.relpath(file_path, directory_path)\n",
    "           \n",
    "            s3_key = os.path.join(s3_prefix, relpath).replace('\\\\','/')\n",
    "            s3.upload_file(file_path, bucket_name, s3_key)\n",
    "\n",
    "            \n",
    "\n",
    "upload_directory(\"aws_sentiment_program\", \"s3_data\")"
   ]
  },
  {
   "cell_type": "markdown",
   "id": "684acda5",
   "metadata": {},
   "source": [
    "Download a batch at a time if nessecasry....\n",
    "\n"
   ]
  },
  {
   "cell_type": "code",
   "execution_count": 51,
   "id": "8fa6075a",
   "metadata": {},
   "outputs": [],
   "source": [
    "local_path = \"s3_download\"\n",
    "s3_prefix = \"s3_data\"\n",
    "\n",
    "def download_dir(local_path, s3_prefix):\n",
    "    os.makedirs(local_path, exist_ok=True)\n",
    "    paginator = s3.get_paginator(\"list_objects_v2\")\n",
    "\n",
    "    for result in paginator.paginate(Bucket=bucket_name, Prefix= \"s3_prefix\"):\n",
    "        if \"Contents\" in result:\n",
    "            for key in result[\"Contents\"]:\n",
    "                s3_key = key[\"Key\"]\n",
    "\n",
    "                local_file = os.path.join(local_path, os.path.relpath(s3_key, s3_prefix))\n",
    "                #os.makedirs(local_file, exist_ok=True)\n",
    "\n",
    "                s3.download_file(bucket_name, s3_key, local_file)\n"
   ]
  },
  {
   "cell_type": "code",
   "execution_count": 52,
   "id": "4b279a15",
   "metadata": {},
   "outputs": [],
   "source": [
    "download_dir(local_path, s3_prefix)"
   ]
  },
  {
   "cell_type": "markdown",
   "id": "681794ea",
   "metadata": {},
   "source": [
    "Deleta all files in our bucket in AWS...."
   ]
  },
  {
   "cell_type": "code",
   "execution_count": 55,
   "id": "de303d3b",
   "metadata": {},
   "outputs": [],
   "source": [
    "def delete_files():\n",
    "    response = s3.list_objects_v2(Bucket=bucket_name)\n",
    "\n",
    "    if \"Contents\" in response:\n",
    "        for obj in response[\"Contents\"]:\n",
    "            s3.delete_object(Bucket=bucket_name, Key=obj[\"Key\"])\n",
    "\n",
    "delete_files()"
   ]
  },
  {
   "cell_type": "code",
   "execution_count": 1,
   "id": "bb806234",
   "metadata": {},
   "outputs": [
    {
     "ename": "NameError",
     "evalue": "name 's3' is not defined",
     "output_type": "error",
     "traceback": [
      "\u001b[31m---------------------------------------------------------------------------\u001b[39m",
      "\u001b[31mNameError\u001b[39m                                 Traceback (most recent call last)",
      "\u001b[36mCell\u001b[39m\u001b[36m \u001b[39m\u001b[32mIn[1]\u001b[39m\u001b[32m, line 1\u001b[39m\n\u001b[32m----> \u001b[39m\u001b[32m1\u001b[39m \u001b[43ms3\u001b[49m.delete_bucket(Bucket=bucket_name)\n",
      "\u001b[31mNameError\u001b[39m: name 's3' is not defined"
     ]
    }
   ],
   "source": [
    "s3.delete_bucket(Bucket=bucket_name)"
   ]
  },
  {
   "cell_type": "code",
   "execution_count": null,
   "id": "35325de6",
   "metadata": {},
   "outputs": [],
   "source": []
  },
  {
   "cell_type": "code",
   "execution_count": null,
   "id": "6f46967c",
   "metadata": {},
   "outputs": [],
   "source": []
  },
  {
   "cell_type": "code",
   "execution_count": null,
   "id": "3033afbb",
   "metadata": {},
   "outputs": [],
   "source": []
  },
  {
   "cell_type": "code",
   "execution_count": null,
   "id": "8cd1842d",
   "metadata": {},
   "outputs": [],
   "source": []
  },
  {
   "cell_type": "code",
   "execution_count": null,
   "id": "b40cc0ce",
   "metadata": {},
   "outputs": [],
   "source": []
  },
  {
   "cell_type": "code",
   "execution_count": null,
   "id": "73f6d77e",
   "metadata": {},
   "outputs": [],
   "source": []
  }
 ],
 "metadata": {
  "kernelspec": {
   "display_name": "venv",
   "language": "python",
   "name": "python3"
  },
  "language_info": {
   "codemirror_mode": {
    "name": "ipython",
    "version": 3
   },
   "file_extension": ".py",
   "mimetype": "text/x-python",
   "name": "python",
   "nbconvert_exporter": "python",
   "pygments_lexer": "ipython3",
   "version": "3.11.4"
  }
 },
 "nbformat": 4,
 "nbformat_minor": 5
}
